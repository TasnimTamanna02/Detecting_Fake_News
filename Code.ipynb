{
  "nbformat": 4,
  "nbformat_minor": 0,
  "metadata": {
    "colab": {
      "provenance": [],
      "mount_file_id": "1InUYksbDMk_x72gX-GCAeHAru3qWBIxo",
      "authorship_tag": "ABX9TyO9yVJ83W6VIXYeuk+exglO",
      "include_colab_link": true
    },
    "kernelspec": {
      "name": "python3",
      "display_name": "Python 3"
    },
    "language_info": {
      "name": "python"
    }
  },
  "cells": [
    {
      "cell_type": "markdown",
      "metadata": {
        "id": "view-in-github",
        "colab_type": "text"
      },
      "source": [
        "<a href=\"https://colab.research.google.com/github/TasnimTamanna02/Detecting_Fake_News/blob/main/Code.ipynb\" target=\"_parent\"><img src=\"https://colab.research.google.com/assets/colab-badge.svg\" alt=\"Open In Colab\"/></a>"
      ]
    },
    {
      "cell_type": "markdown",
      "source": [
        "# Detecting Fake News with PassiveAggressiveClassifier\n"
      ],
      "metadata": {
        "id": "07v9Bs6XLiEg"
      }
    },
    {
      "cell_type": "code",
      "execution_count": null,
      "metadata": {
        "id": "ZyHqJtxvDI8u"
      },
      "outputs": [],
      "source": [
        "import numpy as np\n",
        "import pandas as pd\n",
        "import itertools\n",
        "from sklearn.model_selection import train_test_split\n",
        "from sklearn.feature_extraction.text import TfidfVectorizer\n",
        "from sklearn.linear_model import PassiveAggressiveClassifier\n",
        "from sklearn.metrics import classification_report, confusion_matrix"
      ]
    },
    {
      "cell_type": "code",
      "source": [
        "df=pd.read_csv('/content/drive/MyDrive/Colab Notebooks/Projects/Detecting Fake News/news.csv')\n",
        "df.sample(5)"
      ],
      "metadata": {
        "id": "bdateszPDdZF"
      },
      "execution_count": null,
      "outputs": []
    },
    {
      "cell_type": "code",
      "source": [
        "df.info()"
      ],
      "metadata": {
        "id": "EgtYcYECEdQl"
      },
      "execution_count": null,
      "outputs": []
    },
    {
      "cell_type": "code",
      "source": [
        "labels=df.label\n",
        "labels.head()"
      ],
      "metadata": {
        "id": "2BE5Ttc2FQv_"
      },
      "execution_count": null,
      "outputs": []
    },
    {
      "cell_type": "code",
      "source": [
        "x_train,x_test,y_train,y_test=train_test_split(df['text'], labels, test_size=0.2, random_state=5)"
      ],
      "metadata": {
        "id": "OJHxGUFnFVEY"
      },
      "execution_count": null,
      "outputs": []
    },
    {
      "cell_type": "code",
      "source": [
        "x_train. sample(3)"
      ],
      "metadata": {
        "id": "gD9yX7bvJtII"
      },
      "execution_count": null,
      "outputs": []
    },
    {
      "cell_type": "code",
      "source": [
        "tf_idfvectorizer=TfidfVectorizer(stop_words='english', max_df=0.7)\n",
        "tf_train=tf_idfvectorizer.fit_transform(x_train)\n",
        "tf_test=tf_idfvectorizer.transform(x_test)"
      ],
      "metadata": {
        "id": "EG8bKm8HJ6BJ"
      },
      "execution_count": null,
      "outputs": []
    },
    {
      "cell_type": "code",
      "source": [
        "clf=PassiveAggressiveClassifier(max_iter=80)\n",
        "clf.fit(tf_train,y_train)"
      ],
      "metadata": {
        "id": "wnIR_hpgO8U3"
      },
      "execution_count": null,
      "outputs": []
    },
    {
      "cell_type": "code",
      "source": [
        "y_pred=clf.predict(tf_test)\n",
        "print(classification_report(y_test,y_pred))"
      ],
      "metadata": {
        "id": "AyCtuNLURzxp"
      },
      "execution_count": null,
      "outputs": []
    },
    {
      "cell_type": "code",
      "source": [
        "confusion_matrix(y_test,y_pred, labels=['FAKE','REAL'])"
      ],
      "metadata": {
        "id": "cKjskSp7WlCl"
      },
      "execution_count": null,
      "outputs": []
    },
    {
      "cell_type": "code",
      "source": [
        "!apt-get install git"
      ],
      "metadata": {
        "colab": {
          "base_uri": "https://localhost:8080/"
        },
        "id": "UIgciHFrdGSS",
        "outputId": "906b11a1-8ac1-4f4b-84e7-fd5bb742487b"
      },
      "execution_count": 46,
      "outputs": [
        {
          "output_type": "stream",
          "name": "stdout",
          "text": [
            "Reading package lists... Done\n",
            "Building dependency tree... Done\n",
            "Reading state information... Done\n",
            "git is already the newest version (1:2.34.1-1ubuntu1.11).\n",
            "0 upgraded, 0 newly installed, 0 to remove and 49 not upgraded.\n"
          ]
        }
      ]
    },
    {
      "cell_type": "code",
      "source": [],
      "metadata": {
        "colab": {
          "base_uri": "https://localhost:8080/"
        },
        "id": "43LrP-0weHjc",
        "outputId": "03ea0971-8868-4359-f8e3-161a7bd42022"
      },
      "execution_count": 47,
      "outputs": [
        {
          "output_type": "stream",
          "name": "stdout",
          "text": [
            "\u001b[33mhint: Using 'master' as the name for the initial branch. This default branch name\u001b[m\n",
            "\u001b[33mhint: is subject to change. To configure the initial branch name to use in all\u001b[m\n",
            "\u001b[33mhint: of your new repositories, which will suppress this warning, call:\u001b[m\n",
            "\u001b[33mhint: \u001b[m\n",
            "\u001b[33mhint: \tgit config --global init.defaultBranch <name>\u001b[m\n",
            "\u001b[33mhint: \u001b[m\n",
            "\u001b[33mhint: Names commonly chosen instead of 'master' are 'main', 'trunk' and\u001b[m\n",
            "\u001b[33mhint: 'development'. The just-created branch can be renamed via this command:\u001b[m\n",
            "\u001b[33mhint: \u001b[m\n",
            "\u001b[33mhint: \tgit branch -m <name>\u001b[m\n",
            "Initialized empty Git repository in /content/.git/\n",
            "warning: could not open directory 'drive/.Encrypted/.shortcut-targets-by-id/1MEH23sfuaCwruyPYSvAcaoXXFsrahO7X/Study materials /': No such file or directory\n",
            "error: open(\"drive/.shortcut-targets-by-id/1MEH23sfuaCwruyPYSvAcaoXXFsrahO7X/Study materials /(Re.Pa) Affix Array.gdoc\"): Operation not supported\n",
            "error: unable to index file 'drive/.shortcut-targets-by-id/1MEH23sfuaCwruyPYSvAcaoXXFsrahO7X/Study materials /(Re.Pa) Affix Array.gdoc'\n",
            "fatal: adding files failed\n",
            "Author identity unknown\n",
            "\n",
            "*** Please tell me who you are.\n",
            "\n",
            "Run\n",
            "\n",
            "  git config --global user.email \"you@example.com\"\n",
            "  git config --global user.name \"Your Name\"\n",
            "\n",
            "to set your account's default identity.\n",
            "Omit --global to set the identity only in this repository.\n",
            "\n",
            "fatal: unable to auto-detect email address (got 'root@4ffb7c76c166.(none)')\n",
            "error: src refspec main does not match any\n",
            "\u001b[31merror: failed to push some refs to 'https://github.com/TasnimTamanna02/Detecting_Fake_News.git'\n",
            "\u001b[m"
          ]
        }
      ]
    }
  ]
}