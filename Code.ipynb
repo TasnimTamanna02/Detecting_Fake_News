{
  "nbformat": 4,
  "nbformat_minor": 0,
  "metadata": {
    "colab": {
      "provenance": [],
      "mount_file_id": "1InUYksbDMk_x72gX-GCAeHAru3qWBIxo",
      "authorship_tag": "ABX9TyMS2y2Nir8BCQdndxdokLv+",
      "include_colab_link": true
    },
    "kernelspec": {
      "name": "python3",
      "display_name": "Python 3"
    },
    "language_info": {
      "name": "python"
    }
  },
  "cells": [
    {
      "cell_type": "markdown",
      "metadata": {
        "id": "view-in-github",
        "colab_type": "text"
      },
      "source": [
        "<a href=\"https://colab.research.google.com/github/TasnimTamanna02/Detecting_Fake_News/blob/main/Code.ipynb\" target=\"_parent\"><img src=\"https://colab.research.google.com/assets/colab-badge.svg\" alt=\"Open In Colab\"/></a>"
      ]
    },
    {
      "cell_type": "markdown",
      "source": [
        "# Detecting Fake News with PassiveAggressiveClassifier\n"
      ],
      "metadata": {
        "id": "07v9Bs6XLiEg"
      }
    },
    {
      "cell_type": "code",
      "execution_count": null,
      "metadata": {
        "id": "ZyHqJtxvDI8u"
      },
      "outputs": [],
      "source": [
        "import numpy as np\n",
        "import pandas as pd\n",
        "from sklearn.model_selection import train_test_split\n",
        "from sklearn.feature_extraction.text import TfidfVectorizer\n",
        "from sklearn.linear_model import PassiveAggressiveClassifier\n",
        "from sklearn.metrics import classification_report, confusion_matrix"
      ]
    },
    {
      "cell_type": "code",
      "source": [
        "df=pd.read_csv('/content/drive/MyDrive/Colab Notebooks/Projects/Detecting Fake News/news.csv')\n",
        "df.sample(5)"
      ],
      "metadata": {
        "id": "bdateszPDdZF"
      },
      "execution_count": null,
      "outputs": []
    },
    {
      "cell_type": "code",
      "source": [
        "df.info()"
      ],
      "metadata": {
        "id": "EgtYcYECEdQl"
      },
      "execution_count": null,
      "outputs": []
    },
    {
      "cell_type": "code",
      "source": [
        "labels=df.label\n",
        "labels.head()"
      ],
      "metadata": {
        "id": "2BE5Ttc2FQv_"
      },
      "execution_count": null,
      "outputs": []
    },
    {
      "cell_type": "code",
      "source": [
        "x_train,x_test,y_train,y_test=train_test_split(df['text'], labels, test_size=0.2, random_state=5)"
      ],
      "metadata": {
        "id": "OJHxGUFnFVEY"
      },
      "execution_count": null,
      "outputs": []
    },
    {
      "cell_type": "code",
      "source": [
        "x_train. sample(3)"
      ],
      "metadata": {
        "id": "gD9yX7bvJtII"
      },
      "execution_count": null,
      "outputs": []
    },
    {
      "cell_type": "code",
      "source": [
        "tf_idfvectorizer=TfidfVectorizer(stop_words='english', max_df=0.7)\n",
        "tf_train=tf_idfvectorizer.fit_transform(x_train)\n",
        "tf_test=tf_idfvectorizer.transform(x_test)"
      ],
      "metadata": {
        "id": "EG8bKm8HJ6BJ"
      },
      "execution_count": null,
      "outputs": []
    },
    {
      "cell_type": "code",
      "source": [
        "clf=PassiveAggressiveClassifier(max_iter=80)\n",
        "clf.fit(tf_train,y_train)"
      ],
      "metadata": {
        "id": "wnIR_hpgO8U3"
      },
      "execution_count": null,
      "outputs": []
    },
    {
      "cell_type": "code",
      "source": [
        "y_pred=clf.predict(tf_test)\n",
        "print(classification_report(y_test,y_pred))"
      ],
      "metadata": {
        "id": "AyCtuNLURzxp"
      },
      "execution_count": null,
      "outputs": []
    },
    {
      "cell_type": "code",
      "source": [
        "confusion_matrix(y_test,y_pred, labels=['FAKE','REAL'])"
      ],
      "metadata": {
        "id": "cKjskSp7WlCl"
      },
      "execution_count": null,
      "outputs": []
    }
  ]
}